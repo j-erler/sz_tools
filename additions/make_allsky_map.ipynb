{
 "cells": [
  {
   "cell_type": "code",
   "execution_count": 1,
   "metadata": {},
   "outputs": [],
   "source": [
    "%matplotlib inline\n",
    "\n",
    "import numpy as np\n",
    "import matplotlib.pyplot as plt\n",
    "from astropy.io import fits\n",
    "import healpy as hp\n",
    "from astropy.wcs import WCS\n",
    "import glob\n",
    "from astropy.coordinates import SkyCoord\n",
    "from tqdm import tqdm"
   ]
  },
  {
   "cell_type": "code",
   "execution_count": 2,
   "metadata": {},
   "outputs": [],
   "source": [
    "#set desired nside\n",
    "nside = 8192\n",
    "\n",
    "all_sky_map = np.zeros(hp.nside2npix(nside), dtype = np.float32)\n",
    "weight_map = np.zeros(hp.nside2npix(nside), dtype = np.int16)"
   ]
  },
  {
   "cell_type": "code",
   "execution_count": 3,
   "metadata": {},
   "outputs": [],
   "source": [
    "#read_maps\n",
    "all_maps = np.array(glob.glob(\"NVSS/MAPS/*\")) #path to data\n",
    "n = len(all_maps)"
   ]
  },
  {
   "cell_type": "code",
   "execution_count": 4,
   "metadata": {},
   "outputs": [
    {
     "name": "stderr",
     "output_type": "stream",
     "text": [
      "  0%|          | 0/2326 [00:00<?, ?it/s]WARNING: FITSFixedWarning: 'datfix' made the change 'Set MJD-OBS to 49327.000000 from DATE-OBS.\n",
      "Changed DATE-OBS from '06/12/93' to '1993-12-06''. [astropy.wcs.wcs]\n",
      "  0%|          | 1/2326 [00:00<12:50,  3.02it/s]WARNING: FITSFixedWarning: 'datfix' made the change 'Set MJD-OBS to 49363.000000 from DATE-OBS.\n",
      "Changed DATE-OBS from '11/01/94' to '1994-01-11''. [astropy.wcs.wcs]\n",
      "  0%|          | 3/2326 [00:00<11:52,  3.26it/s]WARNING: FITSFixedWarning: 'datfix' made the change 'Set MJD-OBS to 49823.000000 from DATE-OBS.\n",
      "Changed DATE-OBS from '16/04/95' to '1995-04-16''. [astropy.wcs.wcs]\n",
      "  0%|          | 5/2326 [00:01<11:21,  3.41it/s]WARNING: FITSFixedWarning: 'datfix' made the change 'Set MJD-OBS to 49732.000000 from DATE-OBS.\n",
      "Changed DATE-OBS from '15/01/95' to '1995-01-15''. [astropy.wcs.wcs]\n",
      "  0%|          | 9/2326 [00:02<10:48,  3.57it/s]WARNING: FITSFixedWarning: 'datfix' made the change 'Set MJD-OBS to 49776.000000 from DATE-OBS.\n",
      "Changed DATE-OBS from '28/02/95' to '1995-02-28''. [astropy.wcs.wcs]\n",
      "  0%|          | 11/2326 [00:03<10:21,  3.73it/s]WARNING: FITSFixedWarning: 'datfix' made the change 'Set MJD-OBS to 49809.000000 from DATE-OBS.\n",
      "Changed DATE-OBS from '02/04/95' to '1995-04-02''. [astropy.wcs.wcs]\n",
      "  1%|          | 12/2326 [00:03<10:21,  3.72it/s]WARNING: FITSFixedWarning: 'datfix' made the change 'Set MJD-OBS to 49292.000000 from DATE-OBS.\n",
      "Changed DATE-OBS from '01/11/93' to '1993-11-01''. [astropy.wcs.wcs]\n",
      "  1%|          | 14/2326 [00:03<10:13,  3.77it/s]WARNING: FITSFixedWarning: 'datfix' made the change 'Set MJD-OBS to 49267.000000 from DATE-OBS.\n",
      "Changed DATE-OBS from '07/10/93' to '1993-10-07''. [astropy.wcs.wcs]\n",
      "  1%|          | 15/2326 [00:04<10:31,  3.66it/s]WARNING: FITSFixedWarning: 'datfix' made the change 'Set MJD-OBS to 49788.000000 from DATE-OBS.\n",
      "Changed DATE-OBS from '12/03/95' to '1995-03-12''. [astropy.wcs.wcs]\n",
      "  1%|          | 16/2326 [00:04<10:22,  3.71it/s]WARNING: FITSFixedWarning: 'datfix' made the change 'Set MJD-OBS to 49336.000000 from DATE-OBS.\n",
      "Changed DATE-OBS from '15/12/93' to '1993-12-15''. [astropy.wcs.wcs]\n",
      "  1%|          | 18/2326 [00:04<10:22,  3.71it/s]WARNING: FITSFixedWarning: 'datfix' made the change 'Set MJD-OBS to 49775.000000 from DATE-OBS.\n",
      "Changed DATE-OBS from '27/02/95' to '1995-02-27''. [astropy.wcs.wcs]\n",
      "  1%|          | 28/2326 [00:07<10:30,  3.64it/s]WARNING: FITSFixedWarning: 'datfix' made the change 'Set MJD-OBS to 50238.000000 from DATE-OBS.\n",
      "Changed DATE-OBS from '04/06/96' to '1996-06-04''. [astropy.wcs.wcs]\n",
      "  1%|▏         | 33/2326 [00:08<10:09,  3.76it/s]WARNING: FITSFixedWarning: 'datfix' made the change 'Set MJD-OBS to 49283.000000 from DATE-OBS.\n",
      "Changed DATE-OBS from '23/10/93' to '1993-10-23''. [astropy.wcs.wcs]\n",
      "  1%|▏         | 34/2326 [00:09<10:34,  3.61it/s]WARNING: FITSFixedWarning: 'datfix' made the change 'Set MJD-OBS to 49734.000000 from DATE-OBS.\n",
      "Changed DATE-OBS from '17/01/95' to '1995-01-17''. [astropy.wcs.wcs]\n",
      "  2%|▏         | 35/2326 [00:09<10:34,  3.61it/s]WARNING: FITSFixedWarning: 'datfix' made the change 'Set MJD-OBS to 49306.000000 from DATE-OBS.\n",
      "Changed DATE-OBS from '15/11/93' to '1993-11-15''. [astropy.wcs.wcs]\n",
      "  2%|▏         | 42/2326 [00:11<10:19,  3.69it/s]WARNING: FITSFixedWarning: 'datfix' made the change 'Set MJD-OBS to 49250.000000 from DATE-OBS.\n",
      "Changed DATE-OBS from '20/09/93' to '1993-09-20''. [astropy.wcs.wcs]\n",
      "  2%|▏         | 48/2326 [00:13<10:46,  3.52it/s]WARNING: FITSFixedWarning: 'datfix' made the change 'Set MJD-OBS to 50258.000000 from DATE-OBS.\n",
      "Changed DATE-OBS from '24/06/96' to '1996-06-24''. [astropy.wcs.wcs]\n",
      "  3%|▎         | 60/2326 [00:16<10:10,  3.71it/s]WARNING: FITSFixedWarning: 'datfix' made the change 'Set MJD-OBS to 49280.000000 from DATE-OBS.\n",
      "Changed DATE-OBS from '20/10/93' to '1993-10-20''. [astropy.wcs.wcs]\n",
      "  3%|▎         | 69/2326 [00:18<10:03,  3.74it/s]WARNING: FITSFixedWarning: 'datfix' made the change 'Set MJD-OBS to 49793.000000 from DATE-OBS.\n",
      "Changed DATE-OBS from '17/03/95' to '1995-03-17''. [astropy.wcs.wcs]\n",
      "  3%|▎         | 78/2326 [00:21<10:06,  3.71it/s]WARNING: FITSFixedWarning: 'datfix' made the change 'Set MJD-OBS to 49314.000000 from DATE-OBS.\n",
      "Changed DATE-OBS from '23/11/93' to '1993-11-23''. [astropy.wcs.wcs]\n",
      "  5%|▌         | 121/2326 [00:32<09:47,  3.75it/s]WARNING: FITSFixedWarning: 'datfix' made the change 'Set MJD-OBS to 49285.000000 from DATE-OBS.\n",
      "Changed DATE-OBS from '25/10/93' to '1993-10-25''. [astropy.wcs.wcs]\n",
      "  5%|▌         | 127/2326 [00:34<09:46,  3.75it/s]WARNING: FITSFixedWarning: 'datfix' made the change 'Set MJD-OBS to 50214.000000 from DATE-OBS.\n",
      "Changed DATE-OBS from '11/05/96' to '1996-05-11''. [astropy.wcs.wcs]\n",
      "  6%|▋         | 148/2326 [00:39<09:31,  3.81it/s]WARNING: FITSFixedWarning: 'datfix' made the change 'Set MJD-OBS to 49269.000000 from DATE-OBS.\n",
      "Changed DATE-OBS from '09/10/93' to '1993-10-09''. [astropy.wcs.wcs]\n",
      "  7%|▋         | 159/2326 [00:42<09:32,  3.79it/s]WARNING: FITSFixedWarning: 'datfix' made the change 'Set MJD-OBS to 49357.000000 from DATE-OBS.\n",
      "Changed DATE-OBS from '05/01/94' to '1994-01-05''. [astropy.wcs.wcs]\n",
      " 14%|█▍        | 321/2326 [01:28<09:24,  3.55it/s]WARNING: FITSFixedWarning: 'datfix' made the change 'Set MJD-OBS to 49271.000000 from DATE-OBS.\n",
      "Changed DATE-OBS from '11/10/93' to '1993-10-11''. [astropy.wcs.wcs]\n",
      "100%|██████████| 2326/2326 [11:03<00:00,  3.49it/s]\n"
     ]
    }
   ],
   "source": [
    "#create all-sky map\n",
    "for i in tqdm(np.arange(n)):\n",
    "    \n",
    "    hdulist=fits.open(all_maps[i])\n",
    "    image = hdulist[0].data\n",
    "    header = hdulist[0].header\n",
    "    hdulist.close()\n",
    "    \n",
    "    image = image[0,0,0:1024,:] #only for NVSS\n",
    "    nypix = image.shape[0]\n",
    "    nxpix = image.shape[1]\n",
    "    \n",
    "    w = WCS(header, naxis=2)\n",
    "    YY, XX = np.indices((nypix, nxpix))\n",
    "    RA, DEC = w.wcs_pix2world(XX, YY, 0)\n",
    "    \n",
    "    c = SkyCoord(RA, DEC, frame='fk5', unit='deg')\n",
    "    c_gal = c.transform_to('galactic')\n",
    "    glon = c_gal.l.degree\n",
    "    glat = c_gal.b.degree\n",
    "    \n",
    "    index = hp.ang2pix(nside, glon, glat, lonlat=True)\n",
    "    \n",
    "    all_sky_map[index.reshape(nypix*nxpix)] += image.reshape(nypix*nxpix)\n",
    "    weight_map[index.reshape(nypix*nxpix)] += 1"
   ]
  },
  {
   "cell_type": "code",
   "execution_count": 5,
   "metadata": {},
   "outputs": [],
   "source": [
    "hp.write_map(\"weight.fits\", weight_map, dtype = np.int16, overwrite=True)\n",
    "hp.write_map(\"map.fits\", all_sky_map, dtype = np.float32, overwrite=True)"
   ]
  },
  {
   "cell_type": "code",
   "execution_count": 6,
   "metadata": {},
   "outputs": [],
   "source": [
    "null = weight_map == 0\n",
    "legit = weight_map != 0\n",
    "all_sky_map[null] = hp.UNSEEN\n",
    "all_sky_map[legit] /= weight_map[legit]"
   ]
  },
  {
   "cell_type": "code",
   "execution_count": 7,
   "metadata": {},
   "outputs": [],
   "source": [
    "hp.write_map(\"weight2.fits\", weight_map, dtype = np.int16, overwrite=True)\n",
    "hp.write_map(\"map2.fits\", all_sky_map, dtype = np.float32, overwrite=True)"
   ]
  },
  {
   "cell_type": "code",
   "execution_count": 8,
   "metadata": {},
   "outputs": [
    {
     "name": "stderr",
     "output_type": "stream",
     "text": [
      "/home/jens/Software/anaconda3/lib/python3.7/site-packages/healpy-1.12.9-py3.7-linux-x86_64.egg/healpy/pixelfunc.py:345: RuntimeWarning: invalid value encountered in less_equal\n",
      "  return np.absolute(m - badval) <= atol + rtol * np.absolute(badval)\n"
     ]
    },
    {
     "name": "stdout",
     "output_type": "stream",
     "text": [
      "Sigma is 4.246609 arcmin (0.001235 rad) \n",
      "-> fwhm is 10.000000 arcmin\n",
      "Sigma is 0.000000 arcmin (0.000000 rad) \n",
      "-> fwhm is 0.000000 arcmin\n"
     ]
    },
    {
     "name": "stderr",
     "output_type": "stream",
     "text": [
      "/home/jens/Software/anaconda3/lib/python3.7/site-packages/healpy-1.12.9-py3.7-linux-x86_64.egg/healpy/sphtfunc.py:714: RuntimeWarning: invalid value encountered in sqrt\n",
      "  almout = _sphtools.almxfl(alm, fl, mmax=mmax, inplace=inplace)\n"
     ]
    }
   ],
   "source": [
    "all_sky_map_smoothed = hp.smoothing(all_sky_map, fwhm= 10/60 * np.pi/180, iter = 0)\n",
    "all_sky_map_smoothed[null] = hp.UNSEEN\n",
    "all_sky_map_smoothed_downgraded = hp.ud_grade(all_sky_map_smoothed, nside_out = 2048)"
   ]
  },
  {
   "cell_type": "code",
   "execution_count": 10,
   "metadata": {},
   "outputs": [],
   "source": [
    "hp.write_map(\"map_downgraded.fits\", all_sky_map_smoothed_downgraded)"
   ]
  },
  {
   "cell_type": "code",
   "execution_count": 15,
   "metadata": {},
   "outputs": [
    {
     "data": {
      "image/png": "[encoded data removed]",
      "text/plain": [
       "<Figure size 612x388.8 with 2 Axes>"
      ]
     },
     "metadata": {
      "needs_background": "light"
     },
     "output_type": "display_data"
    }
   ],
   "source": [
    "hp.mollview(all_sky_map)"
   ]
  },
  {
   "cell_type": "code",
   "execution_count": 13,
   "metadata": {},
   "outputs": [
    {
     "data": {
      "text/plain": [
       "array([-1.6375e+30, -1.6375e+30, -1.6375e+30, ..., -1.6375e+30,\n",
       "       -1.6375e+30, -1.6375e+30])"
      ]
     },
     "execution_count": 13,
     "metadata": {},
     "output_type": "execute_result"
    }
   ],
   "source": [
    "all_sky_map_smoothed_downgraded"
   ]
  },
  {
   "cell_type": "code",
   "execution_count": 16,
   "metadata": {},
   "outputs": [
    {
     "data": {
      "text/plain": [
       "0.0029088820866572155"
      ]
     },
     "execution_count": 16,
     "metadata": {},
     "output_type": "execute_result"
    }
   ],
   "source": [
    "10/60 * np.pi/180"
   ]
  },
  {
   "cell_type": "code",
   "execution_count": null,
   "metadata": {},
   "outputs": [],
   "source": []
  }
 ],
 "metadata": {
  "kernelspec": {
   "display_name": "Python 3",
   "language": "python",
   "name": "python3"
  },
  "language_info": {
   "codemirror_mode": {
    "name": "ipython",
    "version": 3
   },
   "file_extension": ".py",
   "mimetype": "text/x-python",
   "name": "python",
   "nbconvert_exporter": "python",
   "pygments_lexer": "ipython3",
   "version": "3.7.3"
  }
 },
 "nbformat": 4,
 "nbformat_minor": 2
}
